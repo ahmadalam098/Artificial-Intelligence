{
  "nbformat": 4,
  "nbformat_minor": 0,
  "metadata": {
    "colab": {
      "provenance": [],
      "authorship_tag": "ABX9TyOeJXeD4AvSEVKcygk3P2Kl",
      "include_colab_link": true
    },
    "kernelspec": {
      "name": "python3",
      "display_name": "Python 3"
    },
    "language_info": {
      "name": "python"
    }
  },
  "cells": [
    {
      "cell_type": "markdown",
      "metadata": {
        "id": "view-in-github",
        "colab_type": "text"
      },
      "source": [
        "<a href=\"https://colab.research.google.com/github/ahmadalam098/Artificial-Intelligence/blob/main/AI_Lab_01_Ahmad_Exercise.ipynb\" target=\"_parent\"><img src=\"https://colab.research.google.com/assets/colab-badge.svg\" alt=\"Open In Colab\"/></a>"
      ]
    },
    {
      "cell_type": "markdown",
      "source": [
        "**Exercise 01: check if a number is prime.**"
      ],
      "metadata": {
        "id": "UmO8H8vMPZuS"
      }
    },
    {
      "cell_type": "code",
      "source": [
        "num = int(input(\"Enter a number: \"))\n",
        "\n",
        "if num > 1:\n",
        "    for i in range(2, num):\n",
        "        if num % i == 0:\n",
        "            print(num, \"is not a prime number\")\n",
        "            break\n",
        "    else:\n",
        "        print(num, \"is a prime number\")\n",
        "else:\n",
        "    print(num, \"is not a prime number\")"
      ],
      "metadata": {
        "colab": {
          "base_uri": "https://localhost:8080/"
        },
        "id": "xd552t6LRPRP",
        "outputId": "e5f24ea5-ee37-485e-deea-b3e59da20837"
      },
      "execution_count": 2,
      "outputs": [
        {
          "output_type": "stream",
          "name": "stdout",
          "text": [
            "Enter a number: 8\n",
            "8 is not a prime number\n"
          ]
        }
      ]
    },
    {
      "cell_type": "markdown",
      "source": [
        "**Exercise 02: list of 10 numbers and print their average**"
      ],
      "metadata": {
        "id": "So0lug_vRg7n"
      }
    },
    {
      "cell_type": "code",
      "source": [
        "numbers = [10, 20, 30, 40, 50, 60, 70, 80, 90, 100]\n",
        "average = sum(numbers) / len(numbers)\n",
        "print(\"Average:\", average)"
      ],
      "metadata": {
        "colab": {
          "base_uri": "https://localhost:8080/"
        },
        "id": "cpBw8Hm4RmEu",
        "outputId": "bcc4fa7b-9fad-402f-a6fd-24cf78303a89"
      },
      "execution_count": 3,
      "outputs": [
        {
          "output_type": "stream",
          "name": "stdout",
          "text": [
            "Average: 55.0\n"
          ]
        }
      ]
    },
    {
      "cell_type": "markdown",
      "source": [
        "**Exercise 03: Store student names and marks in a dictionary and display the topper**"
      ],
      "metadata": {
        "id": "eS_SDETSRzq_"
      }
    },
    {
      "cell_type": "code",
      "source": [
        "students = {\"Ali\": 85, \"Anas\": 92, \"Umer\": 78, \"Ahmad\": 95}\n",
        "topper = max(students, key=students.get)\n",
        "print(\"Topper is:\", topper, \"with marks:\", students[topper])"
      ],
      "metadata": {
        "colab": {
          "base_uri": "https://localhost:8080/"
        },
        "id": "EHLjmJLnSCQX",
        "outputId": "d6d5e8fc-9788-4ba6-f6d8-b0fd6d8a2535"
      },
      "execution_count": 5,
      "outputs": [
        {
          "output_type": "stream",
          "name": "stdout",
          "text": [
            "Topper is: Ahmad with marks: 95\n"
          ]
        }
      ]
    },
    {
      "cell_type": "markdown",
      "source": [
        "**Exercise 04: Demonstrate set operations: union, intersection, difference**"
      ],
      "metadata": {
        "id": "YZ9Y0tBuSXK-"
      }
    },
    {
      "cell_type": "code",
      "source": [
        "A = {1, 2, 3, 4}\n",
        "B = {3, 4, 5, 6}\n",
        "\n",
        "print(\"Union:\", A | B)\n",
        "print(\"Intersection:\", A & B)\n",
        "print(\"Difference (A - B):\", A - B)"
      ],
      "metadata": {
        "colab": {
          "base_uri": "https://localhost:8080/"
        },
        "id": "eaQ45urYSdGP",
        "outputId": "235c0ac3-1b10-4567-eec4-92b81f0deff3"
      },
      "execution_count": 6,
      "outputs": [
        {
          "output_type": "stream",
          "name": "stdout",
          "text": [
            "Union: {1, 2, 3, 4, 5, 6}\n",
            "Intersection: {3, 4}\n",
            "Difference (A - B): {1, 2}\n"
          ]
        }
      ]
    },
    {
      "cell_type": "markdown",
      "source": [
        "**Exercise 05: Write a function to compute factorial using recursion.**"
      ],
      "metadata": {
        "id": "fBgRNoLZSqcG"
      }
    },
    {
      "cell_type": "code",
      "source": [
        "def factorial(n):\n",
        "    if n == 0 or n == 1:\n",
        "        return 1\n",
        "    else:\n",
        "        return n * factorial(n - 1)\n",
        "\n",
        "num = 5\n",
        "print(\"Factorial of\", num, \"is\", factorial(num))\n"
      ],
      "metadata": {
        "colab": {
          "base_uri": "https://localhost:8080/"
        },
        "id": "0Y1s4eysSve2",
        "outputId": "6a01e578-4fe5-4edb-c3d1-1096e8300085"
      },
      "execution_count": 7,
      "outputs": [
        {
          "output_type": "stream",
          "name": "stdout",
          "text": [
            "Factorial of 5 is 120\n"
          ]
        }
      ]
    },
    {
      "cell_type": "markdown",
      "source": [
        "**Exercise 06: Use a for loop to print the Fibonacci series up to n terms**"
      ],
      "metadata": {
        "id": "12ZZHw2BS22_"
      }
    },
    {
      "cell_type": "code",
      "source": [
        "n = int(input(\"Enter number of terms: \"))\n",
        "a, b = 0, 1\n",
        "\n",
        "print(\"Fibonacci series:\")\n",
        "for _ in range(n):\n",
        "    print(a, end=\" \")\n",
        "    a, b = b, a + b\n"
      ],
      "metadata": {
        "colab": {
          "base_uri": "https://localhost:8080/"
        },
        "id": "Tgd4DVoYTDNX",
        "outputId": "5af0a7b7-a535-445f-bc85-b54217632eb8"
      },
      "execution_count": 8,
      "outputs": [
        {
          "output_type": "stream",
          "name": "stdout",
          "text": [
            "Enter number of terms: 7\n",
            "Fibonacci series:\n",
            "0 1 1 2 3 5 8 "
          ]
        }
      ]
    },
    {
      "cell_type": "markdown",
      "source": [
        "**Exercise 07: Read a string and count the number of vowels.**"
      ],
      "metadata": {
        "id": "tGxLQQgLTcBV"
      }
    },
    {
      "cell_type": "code",
      "source": [
        "text = input(\"Enter a string: \")\n",
        "vowels = \"aeiouAEIOU\"\n",
        "count = sum(1 for char in text if char in vowels)\n",
        "print(\"Number of vowels:\", count)"
      ],
      "metadata": {
        "colab": {
          "base_uri": "https://localhost:8080/"
        },
        "id": "885Xv7bDTig_",
        "outputId": "5568b7cc-e8d9-4264-db9f-8468f2cc06d5"
      },
      "execution_count": 9,
      "outputs": [
        {
          "output_type": "stream",
          "name": "stdout",
          "text": [
            "Enter a string: Ahmad\n",
            "Number of vowels: 2\n"
          ]
        }
      ]
    },
    {
      "cell_type": "markdown",
      "source": [
        "**Exercise 08: Create a tuple of numbers and find the maximum and minimum.**"
      ],
      "metadata": {
        "id": "iEc3GfW8TsNm"
      }
    },
    {
      "cell_type": "code",
      "source": [
        "numbers = (10, 25, 3, 99, 56, 7)\n",
        "print(\"Maximum:\", max(numbers))\n",
        "print(\"Minimum:\", min(numbers))"
      ],
      "metadata": {
        "colab": {
          "base_uri": "https://localhost:8080/"
        },
        "id": "Hmy3zW5RTzxW",
        "outputId": "a57c577c-6234-4a9f-9ee1-d9123a41faf8"
      },
      "execution_count": 10,
      "outputs": [
        {
          "output_type": "stream",
          "name": "stdout",
          "text": [
            "Maximum: 99\n",
            "Minimum: 3\n"
          ]
        }
      ]
    },
    {
      "cell_type": "markdown",
      "source": [
        "**Exercise 09: Create a tuple of numbers and find the maximum and minimum.**"
      ],
      "metadata": {
        "id": "yBdn-KwOT3yO"
      }
    },
    {
      "cell_type": "code",
      "source": [
        "text = input(\"Enter a string: \")\n",
        "print(\"Reversed string:\", text[::-1])"
      ],
      "metadata": {
        "colab": {
          "base_uri": "https://localhost:8080/"
        },
        "id": "7ollPzZDT5hm",
        "outputId": "45473d3c-e3c9-41f3-cba2-c0df6d14f716"
      },
      "execution_count": 11,
      "outputs": [
        {
          "output_type": "stream",
          "name": "stdout",
          "text": [
            "Enter a string: Ahmad\n",
            "Reversed string: damhA\n"
          ]
        }
      ]
    }
  ]
}